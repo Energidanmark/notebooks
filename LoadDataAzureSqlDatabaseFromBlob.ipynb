{
    "metadata": {
        "kernelspec": {
            "name": "SQL",
            "display_name": "SQL",
            "language": "sql"
        },
        "language_info": {
            "name": "sql",
            "version": ""
        }
    },
    "nbformat_minor": 2,
    "nbformat": 4,
    "cells": [
        {
            "cell_type": "markdown",
            "source": [
                "# Load Data - Azure Sql Database - From Azure Blob Storage"
            ],
            "metadata": {
                "azdata_cell_guid": "9237228f-0082-44d4-ac37-cf1bea8d97ee"
            }
        },
        {
            "cell_type": "markdown",
            "source": [
                "**Step 1 - Create a table and schema**\r\n",
                ""
            ],
            "metadata": {
                "azdata_cell_guid": "bc6f4da5-90a7-43e0-bee9-07149fe58517"
            }
        },
        {
            "cell_type": "code",
            "source": [
                "IF SCHEMA_ID('BlobTest') IS NULL\r\n",
                "EXEC('CREATE SCHEMA [BlobTest]')\r\n",
                "\r\n",
                "IF NOT EXISTS ( SELECT * FROM sys.objects WHERE object_id = OBJECT_ID(N'[BlobTest].[FileFromBlobDistination]') AND type IN ( N'U' ))\r\n",
                "    BEGIN\r\n",
                "    CREATE TABLE BlobTest.FileFromBlobDistination ( BlobFileName NVARCHAR(255) NOT NULL\r\n",
                "                                                   ,FileContent NVARCHAR(MAX) NULL\r\n",
                "                                                   ,LastUpdatedUtc DATETIME2 NOT NULL DEFAULT GETUTCDATE());\r\n",
                "    END;\r\n",
                ""
            ],
            "metadata": {
                "azdata_cell_guid": "e9ed612a-d7b7-4168-be64-c04813333db4",
                "tags": []
            },
            "outputs": [],
            "execution_count": null
        },
        {
            "cell_type": "markdown",
            "source": [
                "**Step 2 - Create Master Key**"
            ],
            "metadata": {
                "azdata_cell_guid": "62e59bbe-43f2-404c-83ea-60ef69347f5c"
            }
        },
        {
            "cell_type": "code",
            "source": [
                "IF NOT EXISTS ( SELECT * FROM sys.symmetric_keys WHERE name LIKE '%DatabaseMasterKey%' )\r\n",
                "    BEGIN\r\n",
                "    PRINT 'CREATE MASTER KEY ENCRYPTION BY PASSWORD = NicePassword;';\r\n",
                "    END;"
            ],
            "metadata": {
                "azdata_cell_guid": "d831facb-49d9-4618-a4e0-7d8465c807b0"
            },
            "outputs": [],
            "execution_count": null
        },
        {
            "cell_type": "markdown",
            "source": [
                "**Step 3 - Create a Database scoped credential**"
            ],
            "metadata": {
                "azdata_cell_guid": "a713e6c0-b7be-4115-a256-e6a0f045fa57"
            }
        },
        {
            "cell_type": "markdown",
            "source": [
                "**Final Step - Clean up**"
            ],
            "metadata": {
                "azdata_cell_guid": "c9ade834-b609-494c-8ab8-d5bc818a8ee1"
            }
        },
        {
            "cell_type": "code",
            "source": [
                "\r\n",
                "IF EXISTS ( SELECT *\r\n",
                "FROM sys.objects\r\n",
                "WHERE object_id = OBJECT_ID(N'[BlobTest].[FileFromBlobDistination]') AND type IN ( N'U' ))\r\n",
                "\tBEGIN\r\n",
                "    DROP TABLE [BlobTest].[FileFromBlobDistination]\r\n",
                "END\r\n",
                "\r\n",
                "DROP SCHEMA IF EXISTS [BlobTest];"
            ],
            "metadata": {
                "azdata_cell_guid": "65a2c891-95a7-4eb0-b364-c15e68ba2205",
                "tags": [
                    "hide_input"
                ]
            },
            "outputs": [],
            "execution_count": null
        }
    ]
}