{
    "metadata": {
        "kernelspec": {
            "name": "SQL",
            "display_name": "SQL",
            "language": "sql"
        },
        "language_info": {
            "name": "sql",
            "version": ""
        }
    },
    "nbformat_minor": 2,
    "nbformat": 4,
    "cells": [
        {
            "cell_type": "markdown",
            "source": [
                "# Load Data - Azure Sql Database - From Azure Blob Storage"
            ],
            "metadata": {
                "azdata_cell_guid": "9237228f-0082-44d4-ac37-cf1bea8d97ee"
            }
        },
        {
            "cell_type": "markdown",
            "source": [
                "**Step 1 - Create a table and schema**\r\n",
                ""
            ],
            "metadata": {
                "azdata_cell_guid": "bc6f4da5-90a7-43e0-bee9-07149fe58517"
            }
        },
        {
            "cell_type": "code",
            "source": [
                "IF SCHEMA_ID('BlobTest') IS NULL\r\n",
                "EXEC('CREATE SCHEMA [BlobTest]')\r\n",
                "\r\n",
                "IF NOT EXISTS ( SELECT * FROM sys.objects WHERE object_id = OBJECT_ID(N'[BlobTest].[FileFromBlobDistination]') AND type IN ( N'U' ))\r\n",
                "    BEGIN\r\n",
                "    CREATE TABLE BlobTest.FileFromBlobDistination ( CONTENT NVARCHAR(MAX) NULL );\r\n",
                "    END;\r\n",
                ""
            ],
            "metadata": {
                "azdata_cell_guid": "e9ed612a-d7b7-4168-be64-c04813333db4",
                "tags": []
            },
            "outputs": [],
            "execution_count": null
        },
        {
            "cell_type": "markdown",
            "source": [
                "**Step 2 - Create Master Key**"
            ],
            "metadata": {
                "azdata_cell_guid": "62e59bbe-43f2-404c-83ea-60ef69347f5c"
            }
        },
        {
            "cell_type": "code",
            "source": [
                "IF NOT EXISTS ( SELECT * FROM sys.symmetric_keys WHERE name LIKE '%DatabaseMasterKey%' )\r\n",
                "    BEGIN\r\n",
                "    PRINT 'CREATE MASTER KEY ENCRYPTION BY PASSWORD = NicePassword;';\r\n",
                "    END;"
            ],
            "metadata": {
                "azdata_cell_guid": "d831facb-49d9-4618-a4e0-7d8465c807b0",
                "tags": [
                    "hide_input"
                ]
            },
            "outputs": [],
            "execution_count": null
        },
        {
            "cell_type": "markdown",
            "source": [
                "**Step 3 - Create a Database scoped credential**\r\n",
                "> Note: the ? at the beginning of the SAS token should be removed"
            ],
            "metadata": {
                "azdata_cell_guid": "a713e6c0-b7be-4115-a256-e6a0f045fa57",
                "language": "markdown"
            }
        },
        {
            "cell_type": "code",
            "source": [
                "IF NOT EXISTS ( SELECT *\r\n",
                "FROM sys.database_scoped_credentials\r\n",
                "WHERE name IN ( N'https://3marketanalysis.blob.core.windows.net/tradesupport/' ))\r\n",
                "    BEGIN\r\n",
                "    CREATE DATABASE SCOPED\r\n",
                "    CREDENTIAL [https://3marketanalysis.blob.core.windows.net/tradesupport/]\r\n",
                "    WITH IDENTITY = 'SHARED ACCESS SIGNATURE',\r\n",
                "    SECRET = 'sv=2019-10-10&st=2020-11-02T08%3A10%3A53Z&se=2020-11-30T08%3A10%3A00Z&sr=c&sp=racwdl&sig=D2afwKDc2LT%2Bb5ZNIkDYDTYoeyEpORhucFEBjP4xfn4%3D'\r\n",
                "END;"
            ],
            "metadata": {
                "azdata_cell_guid": "91591a52-e113-4a29-aa66-e8ea2131cbf9",
                "tags": []
            },
            "outputs": [],
            "execution_count": null
        },
        {
            "cell_type": "markdown",
            "source": [
                "**Step 4 - Create an external data source to the container**\n",
                "\n",
                "> Note: Location doesn't have a trailing /, even through the CREDENTIALS does."
            ],
            "metadata": {
                "azdata_cell_guid": "cf93d776-8dc5-4ae9-b527-ac81d07cbd7c",
                "language": "markdown"
            }
        },
        {
            "cell_type": "code",
            "source": [
                "IF NOT EXISTS (SELECT *\r\n",
                "FROM sys.external_data_sources\r\n",
                "WHERE name = 'tradesupport')\r\n",
                "BEGIN\r\n",
                "    CREATE EXTERNAL DATA SOURCE tradesupport \r\n",
                "WITH\r\n",
                "(\r\n",
                "    TYPE=BLOB_STORAGE, \r\n",
                "    LOCATION='https://3marketanalysis.blob.core.windows.net/tradesupport', \r\n",
                "    CREDENTIAL=[https://3marketanalysis.blob.core.windows.net/tradesupport/]\r\n",
                ");\r\n",
                "END"
            ],
            "metadata": {
                "azdata_cell_guid": "ca4d6bcc-b6c3-4837-b870-f975f73568e5",
                "tags": []
            },
            "outputs": [],
            "execution_count": null
        },
        {
            "cell_type": "markdown",
            "source": [
                "**Step 5 - Bulk insert data from blob storage**"
            ],
            "metadata": {
                "azdata_cell_guid": "c8e14ee3-474d-45df-8dad-6c052833b61e"
            }
        },
        {
            "cell_type": "markdown",
            "source": [
                "**Final Step - Clean up**"
            ],
            "metadata": {
                "azdata_cell_guid": "c9ade834-b609-494c-8ab8-d5bc818a8ee1"
            }
        },
        {
            "cell_type": "code",
            "source": [
                "IF EXISTS ( SELECT *\r\n",
                "FROM sys.objects\r\n",
                "WHERE object_id = OBJECT_ID(N'[BlobTest].[FileFromBlobDistination]') AND type IN ( N'U' ))\r\n",
                "\tBEGIN\r\n",
                "    DROP TABLE [BlobTest].[FileFromBlobDistination]\r\n",
                "END\r\n",
                "\r\n",
                "DROP SCHEMA IF EXISTS [BlobTest];"
            ],
            "metadata": {
                "azdata_cell_guid": "65a2c891-95a7-4eb0-b364-c15e68ba2205",
                "tags": []
            },
            "outputs": [],
            "execution_count": null
        },
        {
            "cell_type": "code",
            "source": [
                "IF EXISTS ( SELECT *\r\n",
                "FROM sys.database_scoped_credentials\r\n",
                "WHERE name IN ( N'https://3marketanalysis.blob.core.windows.net/tradesupport/' ))\r\n",
                "    BEGIN\r\n",
                "    DROP DATABASE SCOPED\r\n",
                "    CREDENTIAL [https://3marketanalysis.blob.core.windows.net/tradesupport/]\r\n",
                "END;"
            ],
            "metadata": {
                "azdata_cell_guid": "a0d910c3-724b-4891-ba8d-e0a25f79586b"
            },
            "outputs": [],
            "execution_count": null
        },
        {
            "cell_type": "code",
            "source": [
                "\r\n",
                "IF EXISTS (SELECT * FROM sys.external_data_sources WHERE name = 'tradesupport')\r\n",
                "BEGIN \r\n",
                "DROP EXTERNAL DATA SOURCE tradesupport\r\n",
                "END "
            ],
            "metadata": {
                "azdata_cell_guid": "d1e1ddb8-32cb-4a4b-b7c8-00daa4fec4d3"
            },
            "outputs": [],
            "execution_count": null
        }
    ]
}