{
    "metadata": {
        "kernelspec": {
            "name": "SQL",
            "display_name": "SQL",
            "language": "sql"
        },
        "language_info": {
            "name": "sql",
            "version": ""
        }
    },
    "nbformat_minor": 2,
    "nbformat": 4,
    "cells": [
        {
            "cell_type": "markdown",
            "source": [
                "### **Bulk Table**"
            ],
            "metadata": {
                "azdata_cell_guid": "87d8cafb-4d42-478a-8aec-4b6ba6b92403"
            }
        },
        {
            "cell_type": "code",
            "source": [
                "SELECT * FROM [Bulk].[Trayport_RawTrade];"
            ],
            "metadata": {
                "azdata_cell_guid": "fc2bb06a-50fc-4e33-9090-ae043e63c71b",
                "tags": []
            },
            "outputs": [],
            "execution_count": null
        },
        {
            "cell_type": "markdown",
            "source": [
                "### **Bulk merge Stored Procedure**"
            ],
            "metadata": {
                "azdata_cell_guid": "996b41c5-a128-4117-ab71-0661930b88f7"
            }
        },
        {
            "cell_type": "code",
            "source": [
                "EXEC [Trayport].[MergeTradesFromBulk]"
            ],
            "metadata": {
                "azdata_cell_guid": "5c95d3cf-e425-4506-a5f6-5e1e9b56122d"
            },
            "outputs": [],
            "execution_count": 45
        },
        {
            "cell_type": "markdown",
            "source": [
                "###  **Buffer Table**"
            ],
            "metadata": {
                "azdata_cell_guid": "738b7660-35f9-4af6-ba11-1354ca4ed9ae"
            }
        },
        {
            "cell_type": "code",
            "source": [
                "SELECT * FROM   Trayport.TradeXmlRingBuffer;"
            ],
            "metadata": {
                "azdata_cell_guid": "4eed4614-0c3f-429c-8485-da7a53f9e072",
                "tags": []
            },
            "outputs": [],
            "execution_count": 46
        },
        {
            "cell_type": "markdown",
            "source": [
                "### **Buffer merge Stored Procedure**"
            ],
            "metadata": {
                "azdata_cell_guid": "d959591a-72db-4e11-9f9f-2d3adb7a890a"
            }
        },
        {
            "cell_type": "code",
            "source": [
                "EXEC [Trayport].[GetRawTradeFromXmlBuffer]"
            ],
            "metadata": {
                "azdata_cell_guid": "771e3d0f-9ded-48fe-af33-1876eac3ae29"
            },
            "outputs": [],
            "execution_count": null
        },
        {
            "cell_type": "markdown",
            "source": [
                "### **Raw Table**"
            ],
            "metadata": {
                "azdata_cell_guid": "fc3ee013-7bd5-4202-8f08-976e120d2b2a"
            }
        },
        {
            "cell_type": "code",
            "source": [
                "SELECT * FROM Trayport.TradeRaw"
            ],
            "metadata": {
                "azdata_cell_guid": "a4cb1e91-6055-43a7-adcc-f48bd7227661"
            },
            "outputs": [],
            "execution_count": 1
        },
        {
            "cell_type": "markdown",
            "source": [
                "### **Target merge Stored Procedure**"
            ],
            "metadata": {
                "azdata_cell_guid": "e5af074c-865b-4be2-b50a-ad71c42556de"
            }
        },
        {
            "cell_type": "code",
            "source": [
                "EXEC [dbo].[ImportTrades]\r\n",
                "\t\t@DataProvider = N'Trayport',\r\n",
                "\t\t@ImportQueueStatus = 3"
            ],
            "metadata": {
                "azdata_cell_guid": "a98c5054-c52b-4663-88a5-dc2953325e46"
            },
            "outputs": [
                {
                    "output_type": "display_data",
                    "data": {
                        "text/html": "Commands completed successfully."
                    },
                    "metadata": {}
                },
                {
                    "output_type": "display_data",
                    "data": {
                        "text/html": "Total execution time: 00:00:00.168"
                    },
                    "metadata": {}
                },
                {
                    "output_type": "execute_result",
                    "execution_count": 1,
                    "data": {
                        "application/vnd.dataresource+json": {
                            "schema": {
                                "fields": [
                                    {
                                        "name": "ExternalId"
                                    },
                                    {
                                        "name": "ParentId"
                                    },
                                    {
                                        "name": "TradeDateTimeUtc"
                                    },
                                    {
                                        "name": "Quantity"
                                    },
                                    {
                                        "name": "QuantityTypeId"
                                    },
                                    {
                                        "name": "Price"
                                    },
                                    {
                                        "name": "BeginDateTimeUtc"
                                    },
                                    {
                                        "name": "EndDateTimeUtc"
                                    },
                                    {
                                        "name": "InstrumentTypeId"
                                    },
                                    {
                                        "name": "DeliveryTypeId"
                                    },
                                    {
                                        "name": "BusinessTypeId"
                                    },
                                    {
                                        "name": "DataProviderId"
                                    },
                                    {
                                        "name": "TraderId"
                                    },
                                    {
                                        "name": "StatusId"
                                    },
                                    {
                                        "name": "PeriodId"
                                    },
                                    {
                                        "name": "DayLoadProfileId"
                                    },
                                    {
                                        "name": "CurrencyId"
                                    },
                                    {
                                        "name": "CounterpartyFromId"
                                    },
                                    {
                                        "name": "ExecutionFromId"
                                    },
                                    {
                                        "name": "CounterpartyToId"
                                    },
                                    {
                                        "name": "ExecutionToId"
                                    },
                                    {
                                        "name": "BrokerId"
                                    },
                                    {
                                        "name": "GridId"
                                    },
                                    {
                                        "name": "UpdatedUtc"
                                    },
                                    {
                                        "name": "QueueId"
                                    }
                                ]
                            },
                            "data": []
                        },
                        "text/html": "<table><tr><th>ExternalId</th><th>ParentId</th><th>TradeDateTimeUtc</th><th>Quantity</th><th>QuantityTypeId</th><th>Price</th><th>BeginDateTimeUtc</th><th>EndDateTimeUtc</th><th>InstrumentTypeId</th><th>DeliveryTypeId</th><th>BusinessTypeId</th><th>DataProviderId</th><th>TraderId</th><th>StatusId</th><th>PeriodId</th><th>DayLoadProfileId</th><th>CurrencyId</th><th>CounterpartyFromId</th><th>ExecutionFromId</th><th>CounterpartyToId</th><th>ExecutionToId</th><th>BrokerId</th><th>GridId</th><th>UpdatedUtc</th><th>QueueId</th></tr></table>"
                    },
                    "metadata": {}
                }
            ],
            "execution_count": 1
        },
        {
            "cell_type": "markdown",
            "source": [
                "### **Clean Up**"
            ],
            "metadata": {
                "azdata_cell_guid": "e96935af-9ab9-482f-ba71-2c3d82e42c55"
            }
        },
        {
            "cell_type": "code",
            "source": [
                "DECLARE @DataProviderId AS INT = ( SELECT TOP ( 1 ) Id FROM Mapping.DataProvider WHERE DataProviderName = 'Trayport' ORDER BY Id );\n",
                "TRUNCATE TABLE Trayport.TradeXmlRingBuffer;\n",
                "TRUNCATE TABLE Trayport.TradeRaw;\n",
                "TRUNCATE TABLE [Bulk].Trayport_RawTrade;\n",
                "DELETE FROM   dbo.Trade\n",
                "WHERE  DataProviderId = @DataProviderId;"
            ],
            "metadata": {
                "azdata_cell_guid": "627748f6-ed4b-4386-bf11-bc8bdcd4dae8"
            },
            "outputs": [
                {
                    "output_type": "display_data",
                    "data": {
                        "text/html": "(8 rows affected)"
                    },
                    "metadata": {}
                },
                {
                    "output_type": "display_data",
                    "data": {
                        "text/html": "Total execution time: 00:00:00.067"
                    },
                    "metadata": {}
                }
            ],
            "execution_count": 2
        }
    ]
}